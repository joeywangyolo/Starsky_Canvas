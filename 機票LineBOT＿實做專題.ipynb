{
  "nbformat": 4,
  "nbformat_minor": 0,
  "metadata": {
    "colab": {
      "provenance": [],
      "include_colab_link": true
    },
    "kernelspec": {
      "name": "python3",
      "display_name": "Python 3"
    },
    "language_info": {
      "name": "python"
    }
  },
  "cells": [
    {
      "cell_type": "markdown",
      "metadata": {
        "id": "view-in-github",
        "colab_type": "text"
      },
      "source": [
        "<a href=\"https://colab.research.google.com/github/joeywangyolo/Starsky_Canvas/blob/main/%E6%A9%9F%E7%A5%A8LineBOT%EF%BC%BF%E5%AF%A6%E5%81%9A%E5%B0%88%E9%A1%8C.ipynb\" target=\"_parent\"><img src=\"https://colab.research.google.com/assets/colab-badge.svg\" alt=\"Open In Colab\"/></a>"
      ]
    },
    {
      "cell_type": "code",
      "execution_count": null,
      "metadata": {
        "colab": {
          "base_uri": "https://localhost:8080/"
        },
        "id": "Mg9shftN8ckv",
        "outputId": "fe173854-6da6-49c6-b0da-0252dc903c55"
      },
      "outputs": [
        {
          "output_type": "stream",
          "name": "stdout",
          "text": []
        }
      ],
      "source": [
        "!pip install line-bot-sdk flask flask-ngrok"
      ]
    },
    {
      "cell_type": "code",
      "source": [
        "from flask import Flask, request, abort, jsonify\n",
        "\n",
        "# 載入json處理套件\n",
        "import json\n",
        "\n",
        "# 外部連結自動生成套件\n",
        "from flask_ngrok import run_with_ngrok\n",
        "\n",
        "# 從linebot 套件包裡引用 LineBotApi 與 WebhookHandler 類別\n",
        "from linebot import (\n",
        "    LineBotApi, WebhookHandler\n",
        ")\n",
        "\n",
        "# 引用無效簽章錯誤\n",
        "from linebot.exceptions import (\n",
        "    InvalidSignatureError,\n",
        "    LineBotApiError\n",
        ")\n",
        "from linebot.models import *"
      ],
      "metadata": {
        "id": "I_PDMogj8n3T"
      },
      "execution_count": null,
      "outputs": []
    },
    {
      "cell_type": "code",
      "source": [
        "app = Flask(__name__,static_url_path='/material',static_folder='./material')\n",
        "run_with_ngrok(app)\n",
        "\n",
        "line_bot_api = LineBotApi('LineBotApi')\n",
        "handler = WebhookHandler(\"WebhookHandler\")"
      ],
      "metadata": {
        "id": "i-n89_468rvL"
      },
      "execution_count": null,
      "outputs": []
    },
    {
      "cell_type": "code",
      "source": [
        "from linebot.http_client import HttpResponse\n",
        "#LineBot 的主程序對話入口\n",
        "#啟動server對外接口，使Line能丟消息進來\n",
        "@app.route(\"/\" , methods=['POST'])\n",
        "def callback():\n",
        "    # get X-Line-Signature header value\n",
        "    signature = request.headers['X-Line-Signature']\n",
        "\n",
        "    # get request body as text\n",
        "    body = request.get_data(as_text = True)\n",
        "    print(body)\n",
        "\n",
        "\n",
        "    try:\n",
        "        events=handler.handle(body, signature)\n",
        "        #handler.handle(body, signature)\n",
        "    except InvalidSignatureError:\n",
        "        abort(400)\n",
        "\n",
        "    return 'OK'"
      ],
      "metadata": {
        "id": "Cz47f5208uiE"
      },
      "execution_count": null,
      "outputs": []
    },
    {
      "cell_type": "code",
      "source": [
        "flex_message1 = FlexSendMessage(\n",
        "    alt_text='hello',\n",
        "    contents=BubbleContainer(\n",
        "        direction='ltr',\n",
        "        hero=ImageComponent(\n",
        "            url='https://www.e-japannavi.com/syuyu/images/map_cts_hokkaido_img_hakodate.jpg',\n",
        "            size='full',\n",
        "            aspect_ratio='20:13',\n",
        "            aspect_mode='cover',\n",
        "            action=URIAction(uri='http://example.com', label='label')\n",
        "        )\n",
        "    )\n",
        ")"
      ],
      "metadata": {
        "id": "LogtwKzMe7d5"
      },
      "execution_count": null,
      "outputs": []
    },
    {
      "cell_type": "code",
      "source": [
        "import json\n",
        "from linebot.models import (\n",
        "    TextSendMessage,ImageSendMessage,FlexSendMessage,PostbackEvent\n",
        ")\n",
        "with open('/content/1階段_1.json',encoding='utf8') as f:\n",
        "  flight_message = json.load(f)\n",
        "  FlexSendMessage.new_from_json_dict(flight_message)\n",
        "print(flight_message)\n",
        "  "
      ],
      "metadata": {
        "id": "8wlB1LWoarYb"
      },
      "execution_count": null,
      "outputs": []
    },
    {
      "cell_type": "code",
      "source": [
        "import re\n",
        "@handler.add(MessageEvent,message = TextMessage)\n",
        "#當用戶傳送文字消息時的處理\n",
        "def handle_message(event):\n",
        "\n",
        "  with open('/content/1階段_1.json',encoding='utf8') as f: \n",
        "    flight_message = json.load(f)\n",
        "\n",
        "  if event.message.text.find('@')!=-1 :\n",
        "    line_bot_api.reply_message(\n",
        "        event.reply_token,\n",
        "        #template_message_dict.get(event.message.text),\n",
        "        FlexSendMessage.new_from_json_dict(flight_message)\n",
        "    )\n",
        "    #data 為用戶輸入的日期變數，之後用 date 來做爬蟲的時間參數 \n",
        "  elif re.match('[2022.2023.2024.2025]+-\\d{1,2}-\\d{1,2}',event.message.text):\n",
        "    date =event.message.text\n",
        "    line_bot_api.reply_message(\n",
        "        event.reply_token,\n",
        "        TextSendMessage(text='您要選擇的日期為：'+date),\n",
        "        #TextSendMessage(text='請輸入 @日本機票 來查看日本的重點城市')\n",
        "    )\n",
        "  else:\n",
        "    line_bot_api.reply_message(\n",
        "        event.reply_token,\n",
        "        TextSendMessage(text='字典內查無此字，請輸入@日本機票')\n",
        "    )"
      ],
      "metadata": {
        "id": "_OFKG3h_9AuY"
      },
      "execution_count": null,
      "outputs": []
    },
    {
      "cell_type": "code",
      "source": [
        "from linebot.models import PostbackEvent\n",
        "\n",
        "@handler.add(PostbackEvent)\n",
        "def handle_post_message(event):\n",
        "    print(event.postback.data)\n",
        "    #postback data 找到 HKD(用戶點了HKD之後)\n",
        "    if (event.postback.data.find('HKD')== 0):\n",
        "      #這邊呼叫爬蟲def (date , 涵館)\n",
        "            line_bot_api.reply_message(\n",
        "            event.reply_token,\n",
        "                TextSendMessage(\n",
        "                    text='請稍待，將為您找尋前往 涵館 的相關資訊',\n",
        "                    #FlexSendMessage(第二階段的範本訊息)\n",
        "                )\n",
        "            )\n",
        "    elif (event.postback.data.find('TYOA') == 0):\n",
        "            line_bot_api.reply_message(\n",
        "            event.reply_token,\n",
        "                TextSendMessage(\n",
        "                    text='請稍待，將為您找尋前往 東京 的相關資訊',\n",
        "                )\n",
        "            )\n",
        "    elif (event.postback.data.find('OSAA') == 0):\n",
        "            line_bot_api.reply_message(\n",
        "            event.reply_token,\n",
        "                TextSendMessage(\n",
        "                    text='請稍待，將為您找尋前往 大阪 的相關資訊'\n",
        "                )\n",
        "            )\n",
        "    elif (event.postback.data.find('KOJ') == 0):\n",
        "            line_bot_api.reply_message(\n",
        "            event.reply_token,\n",
        "                TextSendMessage(\n",
        "                    text='請稍待，將為您找尋前往 鹿兒島 的相關資訊'\n",
        "                )\n",
        "            )\n",
        "    elif (event.postback.data.find('OKA') == 0):\n",
        "            line_bot_api.reply_message(\n",
        "            event.reply_token,\n",
        "                TextSendMessage(\n",
        "                    text='請稍待，將為您找尋前往 沖繩 的相關資訊'\n",
        "                )\n",
        "            )                    \n",
        "    else:\n",
        "        pass"
      ],
      "metadata": {
        "id": "LhxSUZDF9Dh6"
      },
      "execution_count": null,
      "outputs": []
    },
    {
      "cell_type": "code",
      "source": [
        "app.run()"
      ],
      "metadata": {
        "id": "f_HhPfAk9HQY"
      },
      "execution_count": null,
      "outputs": []
    }
  ]
}